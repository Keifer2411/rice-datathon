{
 "cells": [
  {
   "cell_type": "code",
   "execution_count": 104,
   "metadata": {},
   "outputs": [],
   "source": [
    "import pandas as pd\n",
    "import seaborn as sns\n",
    "from sklearn.preprocessing import OneHotEncoder, StandardScaler\n",
    "from sklearn.neighbors import KNeighborsRegressor\n",
    "from sklearn.model_selection import RandomizedSearchCV, cross_val_score, KFold\n",
    "from sklearn.metrics import mean_squared_error\n",
    "from sklearn.ensemble import RandomForestRegressor\n",
    "from xgboost import XGBRegressor\n",
    "import numpy as np\n",
    "import matplotlib.pyplot as plt\n",
    "df = pd.read_csv('training.csv')\n",
    "test = pd.read_csv('test.csv')"
   ]
  },
  {
   "cell_type": "code",
   "execution_count": 106,
   "metadata": {},
   "outputs": [],
   "source": [
    "test_id = test['segment_id']"
   ]
  },
  {
   "cell_type": "code",
   "execution_count": 107,
   "metadata": {},
   "outputs": [
    {
     "name": "stdout",
     "output_type": "stream",
     "text": [
      "Dataset size before removing outliers: 6838\n",
      "Dataset size after removing outliers: 6735\n"
     ]
    }
   ],
   "source": [
    "from numpy import percentile\n",
    "def remove_outliers(column, df):\n",
    "    q25, q75 = percentile(df[column], 25), percentile(df[column], 75)\n",
    "    cut_off = 1.5 * (q75 - q25)\n",
    "    lower, upper = q25 - cut_off, q75 + cut_off\n",
    "    new_df = df[(df[column] < upper) & (df[column] > lower)]\n",
    "    return new_df\n",
    "\n",
    "print(f\"Dataset size before removing outliers: {df.shape[0]}\")\n",
    "df = remove_outliers('rate_of_penetration', df)\n",
    "print(f\"Dataset size after removing outliers: {df.shape[0]}\")\n",
    "df.reset_index(drop=True, inplace=True)"
   ]
  },
  {
   "cell_type": "code",
   "execution_count": 110,
   "metadata": {},
   "outputs": [],
   "source": [
    "XX = pd.concat([df, test])\n",
    "df.drop(columns=['segment_id'], inplace=True)\n",
    "df.head()\n",
    "XX.drop(columns=['segment_id'], inplace=True)"
   ]
  },
  {
   "cell_type": "code",
   "execution_count": 111,
   "metadata": {},
   "outputs": [
    {
     "name": "stdout",
     "output_type": "stream",
     "text": [
      "(8302, 10)\n",
      "(6735, 10)\n"
     ]
    }
   ],
   "source": [
    "print(XX.shape)\n",
    "print(df.shape)"
   ]
  },
  {
   "cell_type": "code",
   "execution_count": 112,
   "metadata": {},
   "outputs": [
    {
     "name": "stdout",
     "output_type": "stream",
     "text": [
      "(8302, 319)\n"
     ]
    }
   ],
   "source": [
    "enc = OneHotEncoder(handle_unknown='error', sparse=False)\n",
    "y = XX['rate_of_penetration']\n",
    "nominal = ['wellbore_chev_no_id', 'area_id', 'formation_id', 'bit_model_id']\n",
    "numerical = ['drillbit_size', 'min_depth', 'max_depth', 'surface_weight_on_bit', 'surface_rpm']\n",
    "\n",
    "X_nominal = enc.fit_transform(XX[nominal])\n",
    "nominal_cols = enc.get_feature_names_out(nominal)\n",
    "\n",
    "scaler = StandardScaler()\n",
    "X_num = XX[numerical].copy()\n",
    "\n",
    "for i in numerical:\n",
    "    X_num[i] = scaler.fit_transform(XX[[i]])\n",
    "\n",
    "XX = np.concatenate((X_nominal, X_num), axis=1)\n",
    "print(XX.shape)\n"
   ]
  },
  {
   "cell_type": "code",
   "execution_count": 113,
   "metadata": {},
   "outputs": [],
   "source": [
    "X_train, X_test= XX[0:6735,], XX[6735:,]\n",
    "y_train, y_test = y[:6735], y[6735:]"
   ]
  },
  {
   "cell_type": "code",
   "execution_count": 114,
   "metadata": {},
   "outputs": [
    {
     "data": {
      "text/plain": [
       "XGBRegressor(base_score=0.5, booster='gbtree', colsample_bylevel=1.0,\n",
       "             colsample_bynode=1, colsample_bytree=0.756,\n",
       "             enable_categorical=False, gamma=2.715, gpu_id=0,\n",
       "             importance_type=None, interaction_constraints='',\n",
       "             learning_rate=0.14, max_delta_step=0, max_depth=12,\n",
       "             min_child_weight=0.1121, missing=nan, monotone_constraints='()',\n",
       "             n_estimators=100, n_jobs=8, num_parallel_tree=1, predictor='auto',\n",
       "             random_state=0, reg_alpha=0, reg_lambda=1, scale_pos_weight=1,\n",
       "             subsample=0.95, tree_method='gpu_hist', validate_parameters=1,\n",
       "             verbosity=None)"
      ]
     },
     "execution_count": 114,
     "metadata": {},
     "output_type": "execute_result"
    }
   ],
   "source": [
    "XGB = XGBRegressor(subsample= 0.95, min_child_weight= 0.1121, max_depth= 12, learning_rate= 0.14, gamma= 2.715, colsample_bytree= 0.756, colsample_bylevel= 1.0, objective ='reg:squarederror', tree_method='gpu_hist')\n",
    "XGB.fit(X_train, y_train)"
   ]
  },
  {
   "cell_type": "code",
   "execution_count": 127,
   "metadata": {},
   "outputs": [],
   "source": [
    "y_pred = XGB.predict(X_test)"
   ]
  },
  {
   "cell_type": "code",
   "execution_count": 131,
   "metadata": {},
   "outputs": [],
   "source": [
    "result = pd.concat([test_id, pd.Series(y_pred)], axis=1)\n",
    "result.to_csv('submission.csv', index=False)"
   ]
  }
 ],
 "metadata": {
  "interpreter": {
   "hash": "4ca089da890d587c6ee630e91cc3942d6c791790f789480182de33e1fcd2afd9"
  },
  "kernelspec": {
   "display_name": "Python 3.10.1 64-bit ('venv': venv)",
   "language": "python",
   "name": "python3"
  },
  "language_info": {
   "codemirror_mode": {
    "name": "ipython",
    "version": 3
   },
   "file_extension": ".py",
   "mimetype": "text/x-python",
   "name": "python",
   "nbconvert_exporter": "python",
   "pygments_lexer": "ipython3",
   "version": "3.9.5"
  },
  "orig_nbformat": 4
 },
 "nbformat": 4,
 "nbformat_minor": 2
}
