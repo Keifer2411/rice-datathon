{
 "cells": [
  {
   "cell_type": "code",
   "execution_count": 43,
   "metadata": {},
   "outputs": [],
   "source": [
    "import pandas as pd\n",
    "import seaborn as sns\n",
    "from sklearn.preprocessing import OneHotEncoder, StandardScaler\n",
    "from sklearn.neighbors import KNeighborsRegressor\n",
    "from sklearn.model_selection import RandomizedSearchCV, cross_val_score, KFold\n",
    "from sklearn.metrics import mean_squared_error\n",
    "from sklearn.ensemble import RandomForestRegressor\n",
    "from xgboost import XGBRegressor\n",
    "import numpy as np\n",
    "import matplotlib.pyplot as plt\n",
    "df = pd.read_csv('training.csv')"
   ]
  },
  {
   "cell_type": "code",
   "execution_count": 44,
   "metadata": {},
   "outputs": [
    {
     "data": {
      "text/html": [
       "<div>\n",
       "<style scoped>\n",
       "    .dataframe tbody tr th:only-of-type {\n",
       "        vertical-align: middle;\n",
       "    }\n",
       "\n",
       "    .dataframe tbody tr th {\n",
       "        vertical-align: top;\n",
       "    }\n",
       "\n",
       "    .dataframe thead th {\n",
       "        text-align: right;\n",
       "    }\n",
       "</style>\n",
       "<table border=\"1\" class=\"dataframe\">\n",
       "  <thead>\n",
       "    <tr style=\"text-align: right;\">\n",
       "      <th></th>\n",
       "      <th>wellbore_chev_no_id</th>\n",
       "      <th>area_id</th>\n",
       "      <th>formation_id</th>\n",
       "      <th>bit_model_id</th>\n",
       "      <th>drillbit_size</th>\n",
       "      <th>min_depth</th>\n",
       "      <th>max_depth</th>\n",
       "      <th>rate_of_penetration</th>\n",
       "      <th>surface_weight_on_bit</th>\n",
       "      <th>surface_rpm</th>\n",
       "    </tr>\n",
       "  </thead>\n",
       "  <tbody>\n",
       "    <tr>\n",
       "      <th>0</th>\n",
       "      <td>wellbore_chev_no_0</td>\n",
       "      <td>area_0</td>\n",
       "      <td>formation_62</td>\n",
       "      <td>bit_model_1</td>\n",
       "      <td>12.25</td>\n",
       "      <td>21834.5</td>\n",
       "      <td>21839.5</td>\n",
       "      <td>99.614650</td>\n",
       "      <td>43.533280</td>\n",
       "      <td>150.369091</td>\n",
       "    </tr>\n",
       "    <tr>\n",
       "      <th>1</th>\n",
       "      <td>wellbore_chev_no_0</td>\n",
       "      <td>area_0</td>\n",
       "      <td>formation_61</td>\n",
       "      <td>bit_model_1</td>\n",
       "      <td>12.25</td>\n",
       "      <td>21840.0</td>\n",
       "      <td>21869.5</td>\n",
       "      <td>99.354021</td>\n",
       "      <td>42.382033</td>\n",
       "      <td>150.369001</td>\n",
       "    </tr>\n",
       "    <tr>\n",
       "      <th>2</th>\n",
       "      <td>wellbore_chev_no_0</td>\n",
       "      <td>area_0</td>\n",
       "      <td>formation_59</td>\n",
       "      <td>bit_model_1</td>\n",
       "      <td>12.25</td>\n",
       "      <td>21870.0</td>\n",
       "      <td>21899.5</td>\n",
       "      <td>83.622907</td>\n",
       "      <td>48.675129</td>\n",
       "      <td>150.429335</td>\n",
       "    </tr>\n",
       "    <tr>\n",
       "      <th>3</th>\n",
       "      <td>wellbore_chev_no_0</td>\n",
       "      <td>area_0</td>\n",
       "      <td>formation_65</td>\n",
       "      <td>bit_model_1</td>\n",
       "      <td>12.25</td>\n",
       "      <td>21900.0</td>\n",
       "      <td>21929.5</td>\n",
       "      <td>85.427731</td>\n",
       "      <td>30.041290</td>\n",
       "      <td>150.080000</td>\n",
       "    </tr>\n",
       "    <tr>\n",
       "      <th>4</th>\n",
       "      <td>wellbore_chev_no_0</td>\n",
       "      <td>area_0</td>\n",
       "      <td>formation_65</td>\n",
       "      <td>bit_model_1</td>\n",
       "      <td>12.25</td>\n",
       "      <td>21930.0</td>\n",
       "      <td>21959.5</td>\n",
       "      <td>100.639811</td>\n",
       "      <td>31.406319</td>\n",
       "      <td>150.032167</td>\n",
       "    </tr>\n",
       "  </tbody>\n",
       "</table>\n",
       "</div>"
      ],
      "text/plain": [
       "  wellbore_chev_no_id area_id  formation_id bit_model_id  drillbit_size  \\\n",
       "0  wellbore_chev_no_0  area_0  formation_62  bit_model_1          12.25   \n",
       "1  wellbore_chev_no_0  area_0  formation_61  bit_model_1          12.25   \n",
       "2  wellbore_chev_no_0  area_0  formation_59  bit_model_1          12.25   \n",
       "3  wellbore_chev_no_0  area_0  formation_65  bit_model_1          12.25   \n",
       "4  wellbore_chev_no_0  area_0  formation_65  bit_model_1          12.25   \n",
       "\n",
       "   min_depth  max_depth  rate_of_penetration  surface_weight_on_bit  \\\n",
       "0    21834.5    21839.5            99.614650              43.533280   \n",
       "1    21840.0    21869.5            99.354021              42.382033   \n",
       "2    21870.0    21899.5            83.622907              48.675129   \n",
       "3    21900.0    21929.5            85.427731              30.041290   \n",
       "4    21930.0    21959.5           100.639811              31.406319   \n",
       "\n",
       "   surface_rpm  \n",
       "0   150.369091  \n",
       "1   150.369001  \n",
       "2   150.429335  \n",
       "3   150.080000  \n",
       "4   150.032167  "
      ]
     },
     "execution_count": 44,
     "metadata": {},
     "output_type": "execute_result"
    }
   ],
   "source": [
    "df.drop(columns=['segment_id'], inplace=True)\n",
    "df.head()"
   ]
  },
  {
   "cell_type": "code",
   "execution_count": 45,
   "metadata": {},
   "outputs": [
    {
     "name": "stdout",
     "output_type": "stream",
     "text": [
      "<class 'pandas.core.frame.DataFrame'>\n",
      "RangeIndex: 6838 entries, 0 to 6837\n",
      "Data columns (total 10 columns):\n",
      " #   Column                 Non-Null Count  Dtype  \n",
      "---  ------                 --------------  -----  \n",
      " 0   wellbore_chev_no_id    6838 non-null   object \n",
      " 1   area_id                6838 non-null   object \n",
      " 2   formation_id           6838 non-null   object \n",
      " 3   bit_model_id           6838 non-null   object \n",
      " 4   drillbit_size          6838 non-null   float64\n",
      " 5   min_depth              6838 non-null   float64\n",
      " 6   max_depth              6838 non-null   float64\n",
      " 7   rate_of_penetration    6838 non-null   float64\n",
      " 8   surface_weight_on_bit  6838 non-null   float64\n",
      " 9   surface_rpm            6838 non-null   float64\n",
      "dtypes: float64(6), object(4)\n",
      "memory usage: 534.3+ KB\n"
     ]
    }
   ],
   "source": [
    "df.info()"
   ]
  },
  {
   "cell_type": "code",
   "execution_count": 46,
   "metadata": {},
   "outputs": [
    {
     "name": "stdout",
     "output_type": "stream",
     "text": [
      "Dataset size before removing outliers: 6838\n",
      "Dataset size after removing outliers: 6735\n"
     ]
    }
   ],
   "source": [
    "from numpy import percentile\n",
    "def remove_outliers(column, df):\n",
    "    q25, q75 = percentile(df[column], 25), percentile(df[column], 75)\n",
    "    cut_off = 1.5 * (q75 - q25)\n",
    "    lower, upper = q25 - cut_off, q75 + cut_off\n",
    "    new_df = df[(df[column] < upper) & (df[column] > lower)]\n",
    "    return new_df\n",
    "\n",
    "print(f\"Dataset size before removing outliers: {df.shape[0]}\")\n",
    "df = remove_outliers('rate_of_penetration', df)\n",
    "print(f\"Dataset size after removing outliers: {df.shape[0]}\")\n",
    "df.reset_index(drop=True, inplace=True)"
   ]
  },
  {
   "cell_type": "code",
   "execution_count": 47,
   "metadata": {},
   "outputs": [
    {
     "name": "stdout",
     "output_type": "stream",
     "text": [
      "(6735, 305)\n"
     ]
    }
   ],
   "source": [
    "enc = OneHotEncoder(handle_unknown='error', sparse=False)\n",
    "nominal = ['wellbore_chev_no_id', 'area_id', 'formation_id', 'bit_model_id']\n",
    "numerical = ['drillbit_size', 'min_depth', 'max_depth', 'surface_weight_on_bit', 'surface_rpm']\n",
    "\n",
    "X_nominal = enc.fit_transform(df[nominal])\n",
    "nominal_cols = enc.get_feature_names_out(nominal)\n",
    "\n",
    "scaler = StandardScaler()\n",
    "X_num = df[numerical].copy()\n",
    "\n",
    "for i in numerical:\n",
    "    X_num[i] = scaler.fit_transform(df[[i]])\n",
    "\n",
    "X = np.concatenate((X_nominal, X_num), axis=1)\n",
    "print(X.shape)\n",
    "y = df['rate_of_penetration'].values"
   ]
  },
  {
   "cell_type": "code",
   "execution_count": 48,
   "metadata": {},
   "outputs": [
    {
     "data": {
      "text/plain": [
       "(305,)"
      ]
     },
     "execution_count": 48,
     "metadata": {},
     "output_type": "execute_result"
    }
   ],
   "source": [
    "enc_cols = np.concatenate((nominal_cols, numerical))\n",
    "enc_cols.shape"
   ]
  },
  {
   "cell_type": "code",
   "execution_count": 49,
   "metadata": {},
   "outputs": [
    {
     "name": "stdout",
     "output_type": "stream",
     "text": [
      "Best K: 3, RMSE: 15.81487321320227\n",
      "Best K: 9, RMSE: 14.820053803870415\n",
      "Best K: 5, RMSE: 13.02965574895035\n",
      "Best K: 5, RMSE: 14.323453528403553\n",
      "Best K: 3, RMSE: 13.926186498303531\n",
      "Best K: 7, RMSE: 14.422690025440037\n",
      "Best K: 5, RMSE: 14.712396448391189\n",
      "Best K: 5, RMSE: 15.497950725113684\n",
      "Best K: 3, RMSE: 14.643728512415878\n",
      "Best K: 3, RMSE: 12.599144971732677\n",
      "Overall RMSE: 14.379 (sd: 0.943)\n"
     ]
    }
   ],
   "source": [
    "cv_outer = KFold(n_splits=10, shuffle=True)\n",
    "\n",
    "cross_test_scores = list()\n",
    "BestK = []\n",
    "for train_ix, test_ix in cv_outer.split(X):\n",
    "    X_train, X_test = X[train_ix, :], X[test_ix, :]\n",
    "    y_train, y_test = y[train_ix], y[test_ix]\n",
    "    K = [1, 3, 5, 7, 9, 11, 15, 21, 31, 41, 51, 61, 71, 81, 91, 101]\n",
    "    test_scores = []\n",
    "    for k in K:\n",
    "        knn = KNeighborsRegressor(k)\n",
    "        knn.fit(X_train,y_train)\n",
    "        test_scores.append(knn.score(X_test,y_test))\n",
    "    knn = KNeighborsRegressor(K[test_scores.index(max(test_scores))])\n",
    "    knn.fit(X_train, y_train)\n",
    "    y_pred = knn.predict(X_test)\n",
    "    rmse = np.sqrt(mean_squared_error(y_pred, y_test))\n",
    "    # store the result\n",
    "    BestK.append(K[test_scores.index(max(test_scores))])\n",
    "    cross_test_scores.append(rmse)\n",
    "    print(f'Best K: {K[test_scores.index(max(test_scores))]}, RMSE: {rmse}')\n",
    "print(f'Overall RMSE: {round(np.mean(cross_test_scores), 3)} (sd: {round(np.std(cross_test_scores), 3)})')"
   ]
  },
  {
   "cell_type": "code",
   "execution_count": 50,
   "metadata": {},
   "outputs": [
    {
     "name": "stdout",
     "output_type": "stream",
     "text": [
      "CV RMSE: 13.346 (sd: 0.77)\n"
     ]
    }
   ],
   "source": [
    "cv = KFold(n_splits=10, shuffle=True)\n",
    "RFC = RandomForestRegressor(n_estimators=100, oob_score=True)\n",
    "cv_scores = cross_val_score(RFC, X, y, scoring='neg_mean_squared_error', cv=cv, n_jobs=-1)\n",
    "RFC_rmse = np.sqrt(-cv_scores)\n",
    "print(f'CV RMSE: {round(np.mean(RFC_rmse), 3)} (sd: {round(np.std(RFC_rmse), 3)})')"
   ]
  },
  {
   "cell_type": "code",
   "execution_count": 51,
   "metadata": {},
   "outputs": [
    {
     "data": {
      "image/png": "[encoded data removed]",
      "text/plain": [
       "<Figure size 1080x576 with 1 Axes>"
      ]
     },
     "metadata": {
      "needs_background": "light"
     },
     "output_type": "display_data"
    }
   ],
   "source": [
    "# Gini importances graph\n",
    "RFC.fit(X, y)\n",
    "importances = RFC.feature_importances_\n",
    "importances = pd.DataFrame(importances, index=enc_cols, columns=['Values'])\n",
    "importances = importances.sort_values(by='Values', ascending=False).head(20)\n",
    "fig, ax = plt.subplots(figsize=(15,8))\n",
    "sns.barplot(y=importances['Values'], x=importances.index, order=importances.sort_values(by='Values', ascending=False).index, ax=ax)\n",
    "ax.set_ylabel('Mean decrease in impurity')\n",
    "plt.xticks(rotation=90)\n",
    "plt.show()"
   ]
  },
  {
   "cell_type": "code",
   "execution_count": 42,
   "metadata": {
    "colab": {
     "base_uri": "https://localhost:8080/"
    },
    "id": "L8snwNMOIv3-",
    "outputId": "93229600-5102-4a47-baf8-0c274a0482ea"
   },
   "outputs": [
    {
     "name": "stdout",
     "output_type": "stream",
     "text": [
      "Fitting 5 folds for each of 500 candidates, totalling 2500 fits\n",
      "Best parameters: {'subsample': 0.9500000000000001, 'min_child_weight': 0.1121, 'max_depth': 12, 'learning_rate': 0.14, 'gamma': 2.715, 'colsample_bytree': 0.7599999999999997, 'colsample_bylevel': 1.0}\n"
     ]
    }
   ],
   "source": [
    "params = {\n",
    "    'max_depth': [3, 5, 6, 8, 9, 10, 11, 12, 14, 16],\n",
    "    'min_child_weight': np.arange(0.0001, 0.5, 0.001),\n",
    "    'gamma': np.arange(0, 30, 0.005),\n",
    "    'learning_rate': np.arange(0.0005, 0.3, 0.0005),\n",
    "    'subsample': np.arange(0.01, 1, 0.01),\n",
    "    'colsample_bylevel': np.round(np.arange(0.1, 1, 0.01)),\n",
    "    'colsample_bytree': np.arange(0.1, 1, 0.01)\n",
    "    }\n",
    "kfold = KFold(n_splits=5, shuffle=True, random_state=10)\n",
    "XGB = XGBRegressor(objective ='reg:squarederror', tree_method='gpu_hist')    \n",
    "grid_search = RandomizedSearchCV(XGB, params, scoring=\"neg_mean_squared_error\", n_iter = 500, cv=kfold, n_jobs=-1, verbose=10)\n",
    "grid_result = grid_search.fit(X, y)\n",
    "\n",
    "print('Best parameters:', grid_result.best_params_)"
   ]
  },
  {
   "cell_type": "code",
   "execution_count": 52,
   "metadata": {},
   "outputs": [
    {
     "name": "stdout",
     "output_type": "stream",
     "text": [
      "CV RMSE: 13.254 (sd: 0.593)\n"
     ]
    }
   ],
   "source": [
    "cv = KFold(n_splits=10, shuffle=True)\n",
    "XGB = XGBRegressor()    \n",
    "XGB = XGBRegressor(subsample= 0.95, min_child_weight= 0.1121, max_depth= 12, learning_rate= 0.14, gamma= 2.715, colsample_bytree= 0.756, colsample_bylevel= 1.0, objective ='reg:squarederror', tree_method='gpu_hist')\n",
    "cv_scores = cross_val_score(XGB, X, y, scoring='neg_mean_squared_error', cv=cv, n_jobs=-1)\n",
    "XGB_rmse = np.sqrt(-cv_scores)\n",
    "print(f'CV RMSE: {round(np.mean(XGB_rmse), 3)} (sd: {round(np.std(XGB_rmse), 3)})')"
   ]
  }
 ],
 "metadata": {
  "interpreter": {
   "hash": "4ca089da890d587c6ee630e91cc3942d6c791790f789480182de33e1fcd2afd9"
  },
  "kernelspec": {
   "display_name": "Python 3.10.1 64-bit ('venv': venv)",
   "language": "python",
   "name": "python3"
  },
  "language_info": {
   "codemirror_mode": {
    "name": "ipython",
    "version": 3
   },
   "file_extension": ".py",
   "mimetype": "text/x-python",
   "name": "python",
   "nbconvert_exporter": "python",
   "pygments_lexer": "ipython3",
   "version": "3.9.5"
  },
  "orig_nbformat": 4
 },
 "nbformat": 4,
 "nbformat_minor": 2
}
